{
  "nbformat": 4,
  "nbformat_minor": 0,
  "metadata": {
    "colab": {
      "provenance": []
    },
    "kernelspec": {
      "name": "python3",
      "display_name": "Python 3"
    },
    "language_info": {
      "name": "python"
    }
  },
  "cells": [
    {
      "cell_type": "code",
      "source": [
        "import numpy as np"
      ],
      "metadata": {
        "id": "prXfEoYtfkEc"
      },
      "execution_count": 7,
      "outputs": []
    },
    {
      "cell_type": "code",
      "source": [
        "#lets define a true value that we want to measure, this is the reference point\n",
        "true_value =50"
      ],
      "metadata": {
        "id": "xV1BGPAFjoAg"
      },
      "execution_count": 8,
      "outputs": []
    },
    {
      "cell_type": "code",
      "source": [
        "#simulate some measurements\n",
        "#accurate but not precise(close to the true value but spread out)\n",
        "'''\n",
        "We simulate two sets of measurements\n",
        "1. Accurate but not precise:\n",
        "  These values are centered around the true value, but there is some spread(random variation)\n",
        "  This simulates measurements that are accurate (close to the true value) but not precise(spread out).\n",
        "'''\n",
        "accurate_measurements = np.random.normal(loc=true_value, scale=5, size=10)"
      ],
      "metadata": {
        "id": "w0aQCy97mV21"
      },
      "execution_count": 10,
      "outputs": []
    },
    {
      "cell_type": "code",
      "source": [
        "'''\n",
        "2. Precise but not accurate:\n",
        "  These values are tightly clustered around 60, not near the value of 50\n",
        "  This simulates measurements that are precise(closely grouped) but not accurate(far from the true value).\n",
        "'''\n",
        "precise_measurements = np.random.normal(loc=60, scale=1, size=10)"
      ],
      "metadata": {
        "id": "D3AGGLHqnWNS"
      },
      "execution_count": 11,
      "outputs": []
    },
    {
      "cell_type": "code",
      "source": [
        "#function to calculate accuracy\n",
        "'''\n",
        "We calculate the mean of the measurements.\n",
        "Then we calculate how close is this average to the true value.\n",
        "The close is the average to the true value, the higher is the accuracy\n",
        "The accuracy formula is 1-(difference/true_value)\n",
        "This gives the number between 0(low accuracy) and 1(high accuracy)\n",
        "'''\n",
        "def calculate_accuracy(measurements,true_value):\n",
        "    average_measurement = np.mean(measurements)\n",
        "    accuracy = 1-(abs(average_measurement-true_value)/true_value)\n",
        "    return accuracy\n"
      ],
      "metadata": {
        "id": "JtR_le8KpIYR"
      },
      "execution_count": 12,
      "outputs": []
    },
    {
      "cell_type": "code",
      "source": [
        "#Function to calculate precision\n",
        "'''\n",
        "Precision is determined by the standard deviation of the measurements\n",
        "standard deviation measures how spread out the measurements are\n",
        "If the standard deviation is small(measurements are close together), precision will be high.\n",
        "We use 1/std_dev to represent precision, so a smaller spread gives a higher value for precison.\n",
        "'''\n",
        "def calculate_precision(measurements):\n",
        "  #Precion: how close the measurements are to each other\n",
        "  #low std means high precision\n",
        "    precision = 1/np.std(measurements)\n",
        "    return precision"
      ],
      "metadata": {
        "id": "PxGeG4avp6a4"
      },
      "execution_count": 13,
      "outputs": []
    },
    {
      "cell_type": "code",
      "source": [
        "#calculate accuracy and precision for both sets\n",
        "'''\n",
        "Accurate measurements: we calculate the accuracy and precision of the measurements that are close to the true value but spread out.\n",
        "Precise measurements: we calculate the accuracy and precision of the measurements that are closely grouped but far from the true value.\n",
        "'''\n",
        "accuracy_of_accurate = calculate_accuracy(accurate_measurements,true_value)\n",
        "precision_of_accurate = calculate_precision(accurate_measurements)\n",
        "\n",
        "accuracy_of_precise = calculate_accuracy(precise_measurements,true_value)\n",
        "precision_of_precise = calculate_precision(precise_measurements)\n",
        "\n",
        "#print the results\n",
        "print(\"Accurate but not precise measurements: \")\n",
        "print(f\"Measurements: {accurate_measurements}\")\n",
        "print(f\"Accuracy: {accuracy_of_accurate:.2f}\")\n",
        "print(f\"Precision: {precision_of_accurate:.2f}\")\n",
        "print(\"\\n\")\n",
        "print(\"Precise but not accurate measurements: \")\n",
        "print(f\"Measurements: {precise_measurements}\")\n",
        "print(f\"Accuracy: {accuracy_of_precise:.2f}\")\n",
        "print(f\"Precision: {precision_of_precise:.2f}\")"
      ],
      "metadata": {
        "colab": {
          "base_uri": "https://localhost:8080/"
        },
        "id": "6umh53BcrcTz",
        "outputId": "b8b8251f-1c37-4531-9c46-5dbcc62381b5"
      },
      "execution_count": 16,
      "outputs": [
        {
          "output_type": "stream",
          "name": "stdout",
          "text": [
            "Accurate but not precise measurements: \n",
            "Measurements: [41.77354313 52.95547027 48.02072633 43.83545525 41.87819176 56.32174046\n",
            " 54.41136957 44.36288622 50.31231355 51.57461767]\n",
            "Accuracy: 0.97\n",
            "Precision: 0.20\n",
            "\n",
            "\n",
            "Precise but not accurate measurements: \n",
            "Measurements: [60.96078392 57.59360419 60.50029053 59.24536429 60.74046782 62.11248375\n",
            " 58.63494979 59.37181362 59.32102158 60.20329083]\n",
            "Accuracy: 0.80\n",
            "Precision: 0.81\n"
          ]
        }
      ]
    },
    {
      "cell_type": "code",
      "source": [],
      "metadata": {
        "id": "zMVtjm1MuF2w"
      },
      "execution_count": null,
      "outputs": []
    }
  ]
}