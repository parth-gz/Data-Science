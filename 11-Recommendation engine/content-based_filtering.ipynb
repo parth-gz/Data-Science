{
 "cells": [
  {
   "cell_type": "code",
   "execution_count": 13,
   "id": "d54ec45e-46e2-4fd7-a882-8ec0d643add9",
   "metadata": {},
   "outputs": [],
   "source": [
    "#import necessary libraries\n",
    "import pandas as pd\n",
    "from sklearn.feature_extraction.text import TfidfVectorizer\n",
    "from sklearn.metrics.pairwise import cosine_similarity"
   ]
  },
  {
   "cell_type": "code",
   "execution_count": 15,
   "id": "654bd826-b048-4b28-849b-ff5bfbd693d9",
   "metadata": {},
   "outputs": [],
   "source": [
    "data=pd.read_csv(\"Entertainment.csv\")"
   ]
  },
  {
   "cell_type": "code",
   "execution_count": 17,
   "id": "648e93bf-f854-4229-8589-75a562f67021",
   "metadata": {},
   "outputs": [],
   "source": [
    "#step 1:Preprocess the\"category\" column using TF-IDF\n",
    "tfidf=TfidfVectorizer(stop_words='english')#remove common stop words\n",
    "tfidf_matrix=tfidf.fit_transform(data['Category'])#fit and transform the category data"
   ]
  },
  {
   "cell_type": "code",
   "execution_count": 19,
   "id": "d8cf5b42-f016-4d17-a790-36de50301642",
   "metadata": {},
   "outputs": [],
   "source": [
    "#step 2:compute the cosine similarity between titles\n",
    "cosine_sim=cosine_similarity(tfidf_matrix,tfidf_matrix)"
   ]
  },
  {
   "cell_type": "code",
   "execution_count": 21,
   "id": "633d1479-558a-4ba2-bd87-56ac440067e8",
   "metadata": {},
   "outputs": [],
   "source": [
    "#step 3:create a function to recommend titles based on similarity\n",
    "def get_recommendations(title,cosine_sim=cosine_sim):\n",
    "    #get the index of the title that matches the input title\n",
    "    idx=data[data['Titles']==title].index[0]\n",
    "    '''data['Titles']==title\n",
    "    this creates a boolean mask(a series of True and False values)\n",
    "    indicating which rows in the Titles column match \n",
    "    '''\n",
    "    #get the pairwise similarity scores of al titles with that title\n",
    "    sim_scores=list(enumerate(cosine_sim[idx]))\n",
    "    \n",
    "    #sort the titles based on the similarity scores in descending order\n",
    "    sim_scores=sorted(sim_scores,key=lambda x:x[1],reverse=True)\n",
    "    \n",
    "    #get the indices of the most similar titles\n",
    "    sim_indices=[i[0] for i in sim_scores[1:6]]\n",
    "    #exclude the first \n",
    "    \n",
    "    #return the top 5 most similar titles\n",
    "    return data['Titles'].iloc[sim_indices]"
   ]
  },
  {
   "cell_type": "code",
   "execution_count": 23,
   "id": "d36db894-7fb6-4f9d-a863-5af4826b1aff",
   "metadata": {},
   "outputs": [],
   "source": [
    "#test the recommendation system with an example title\n",
    "example_title =\"Toy Story (1995)\"\n",
    "recommended_titles=get_recommendations(example_title)"
   ]
  },
  {
   "cell_type": "code",
   "execution_count": 25,
   "id": "c906c96e-4446-4ae2-84f4-c9eacd496b3c",
   "metadata": {},
   "outputs": [
    {
     "name": "stdout",
     "output_type": "stream",
     "text": [
      "Recommendations for 'Toy Story (1995)':\n",
      "Othello (1995)\n",
      "Sense and Sensibility (1995)\n",
      "Dracula: Dead and Loving It (1995)\n",
      "American President, The (1995)\n",
      "When Night Is Falling (1995)\n"
     ]
    }
   ],
   "source": [
    "print(f\"Recommendations for '{example_title}':\")\n",
    "for title in recommended_titles:\n",
    "    print(title)"
   ]
  }
 ],
 "metadata": {
  "kernelspec": {
   "display_name": "Python 3 (ipykernel)",
   "language": "python",
   "name": "python3"
  },
  "language_info": {
   "codemirror_mode": {
    "name": "ipython",
    "version": 3
   },
   "file_extension": ".py",
   "mimetype": "text/x-python",
   "name": "python",
   "nbconvert_exporter": "python",
   "pygments_lexer": "ipython3",
   "version": "3.12.4"
  }
 },
 "nbformat": 4,
 "nbformat_minor": 5
}
