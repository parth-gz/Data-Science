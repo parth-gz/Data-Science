{
 "cells": [
  {
   "cell_type": "code",
   "execution_count": 3,
   "id": "a4970eea-044c-410a-b0cc-990017b01001",
   "metadata": {},
   "outputs": [],
   "source": [
    "import pandas as pd\n",
    "from sklearn.metrics.pairwise import cosine_similarity\n",
    "import numpy as np\n",
    "data=pd.read_csv(\"game.csv\")"
   ]
  },
  {
   "cell_type": "code",
   "execution_count": 4,
   "id": "51438fcf-d590-4e78-82af-91092024fc89",
   "metadata": {},
   "outputs": [
    {
     "data": {
      "text/html": [
       "<div>\n",
       "<style scoped>\n",
       "    .dataframe tbody tr th:only-of-type {\n",
       "        vertical-align: middle;\n",
       "    }\n",
       "\n",
       "    .dataframe tbody tr th {\n",
       "        vertical-align: top;\n",
       "    }\n",
       "\n",
       "    .dataframe thead th {\n",
       "        text-align: right;\n",
       "    }\n",
       "</style>\n",
       "<table border=\"1\" class=\"dataframe\">\n",
       "  <thead>\n",
       "    <tr style=\"text-align: right;\">\n",
       "      <th></th>\n",
       "      <th>userId</th>\n",
       "      <th>game</th>\n",
       "      <th>rating</th>\n",
       "    </tr>\n",
       "  </thead>\n",
       "  <tbody>\n",
       "    <tr>\n",
       "      <th>0</th>\n",
       "      <td>3</td>\n",
       "      <td>The Legend of Zelda: Ocarina of Time</td>\n",
       "      <td>4.0</td>\n",
       "    </tr>\n",
       "    <tr>\n",
       "      <th>1</th>\n",
       "      <td>6</td>\n",
       "      <td>Tony Hawk's Pro Skater 2</td>\n",
       "      <td>5.0</td>\n",
       "    </tr>\n",
       "    <tr>\n",
       "      <th>2</th>\n",
       "      <td>8</td>\n",
       "      <td>Grand Theft Auto IV</td>\n",
       "      <td>4.0</td>\n",
       "    </tr>\n",
       "    <tr>\n",
       "      <th>3</th>\n",
       "      <td>10</td>\n",
       "      <td>SoulCalibur</td>\n",
       "      <td>4.0</td>\n",
       "    </tr>\n",
       "    <tr>\n",
       "      <th>4</th>\n",
       "      <td>11</td>\n",
       "      <td>Grand Theft Auto IV</td>\n",
       "      <td>4.5</td>\n",
       "    </tr>\n",
       "    <tr>\n",
       "      <th>...</th>\n",
       "      <td>...</td>\n",
       "      <td>...</td>\n",
       "      <td>...</td>\n",
       "    </tr>\n",
       "    <tr>\n",
       "      <th>4995</th>\n",
       "      <td>4529</td>\n",
       "      <td>Donut County</td>\n",
       "      <td>2.5</td>\n",
       "    </tr>\n",
       "    <tr>\n",
       "      <th>4996</th>\n",
       "      <td>4533</td>\n",
       "      <td>MotorStorm: Apocalypse</td>\n",
       "      <td>3.0</td>\n",
       "    </tr>\n",
       "    <tr>\n",
       "      <th>4997</th>\n",
       "      <td>4544</td>\n",
       "      <td>The Last Guy</td>\n",
       "      <td>3.0</td>\n",
       "    </tr>\n",
       "    <tr>\n",
       "      <th>4998</th>\n",
       "      <td>4548</td>\n",
       "      <td>Valiant Hearts: The Great War</td>\n",
       "      <td>4.0</td>\n",
       "    </tr>\n",
       "    <tr>\n",
       "      <th>4999</th>\n",
       "      <td>4558</td>\n",
       "      <td>Mothergunship</td>\n",
       "      <td>2.5</td>\n",
       "    </tr>\n",
       "  </tbody>\n",
       "</table>\n",
       "<p>5000 rows × 3 columns</p>\n",
       "</div>"
      ],
      "text/plain": [
       "      userId                                  game  rating\n",
       "0          3  The Legend of Zelda: Ocarina of Time     4.0\n",
       "1          6              Tony Hawk's Pro Skater 2     5.0\n",
       "2          8                   Grand Theft Auto IV     4.0\n",
       "3         10                           SoulCalibur     4.0\n",
       "4         11                   Grand Theft Auto IV     4.5\n",
       "...      ...                                   ...     ...\n",
       "4995    4529                          Donut County     2.5\n",
       "4996    4533                MotorStorm: Apocalypse     3.0\n",
       "4997    4544                          The Last Guy     3.0\n",
       "4998    4548         Valiant Hearts: The Great War     4.0\n",
       "4999    4558                         Mothergunship     2.5\n",
       "\n",
       "[5000 rows x 3 columns]"
      ]
     },
     "execution_count": 4,
     "metadata": {},
     "output_type": "execute_result"
    }
   ],
   "source": [
    "data"
   ]
  },
  {
   "cell_type": "code",
   "execution_count": 5,
   "id": "d711da0d-e5da-4f6f-88fd-e028e6a22237",
   "metadata": {},
   "outputs": [
    {
     "data": {
      "text/plain": [
       "'\\npivot_table: this function reshapes the dataframe into a matrix where:\\n    each row represents a user\\n    each column represents a game\\n    the values in the matrix represent the ratings that users gave to the games\\n'"
      ]
     },
     "execution_count": 5,
     "metadata": {},
     "output_type": "execute_result"
    }
   ],
   "source": [
    "#step 1: create a user-item matrix (rows: users, columns: game, values: \n",
    "user_item_matrix=data.pivot_table(index='userId', columns= 'game', values='rating')\n",
    "'''\n",
    "pivot_table: this function reshapes the dataframe into a matrix where:\n",
    "    each row represents a user\n",
    "    each column represents a game\n",
    "    the values in the matrix represent the ratings that users gave to the games\n",
    "'''                                  "
   ]
  },
  {
   "cell_type": "code",
   "execution_count": 6,
   "id": "3de3cb04-77ac-411d-ba89-7c9cde020c0f",
   "metadata": {},
   "outputs": [],
   "source": [
    "#step 2: fill NaN values with 0 (assuming no rating means the game has not been rated yet)\n",
    "user_item_matrix_filled=user_item_matrix.fillna(0)\n"
   ]
  },
  {
   "cell_type": "code",
   "execution_count": 11,
   "id": "b3787711-899b-4284-885c-6498096a21f4",
   "metadata": {},
   "outputs": [],
   "source": [
    "#step3: compute the cosine similarity between users based in raw ratings\n",
    "user_similarity=cosine_similarity(user_item_matrix_filled)"
   ]
  },
  {
   "cell_type": "code",
   "execution_count": 15,
   "id": "4c21e042-4fc2-4fa1-b6df-c331060c1524",
   "metadata": {},
   "outputs": [],
   "source": [
    "#convert similarity matrix to dataframe for easier reference\n",
    "user_similarity_df=pd.DataFrame(user_similarity,index=user_item_matrix.index, columns=user_item_matrix.index)"
   ]
  },
  {
   "cell_type": "code",
   "execution_count": 25,
   "id": "4d1057f4-f120-41f6-b0d0-afac19730378",
   "metadata": {},
   "outputs": [],
   "source": [
    "#step 4: fuction to get game recommendations for a specific user\n",
    "def get_collaborative_recommendations_for_user(user_id,num_recommendations=5):\n",
    "    #get similarity scores for the input user with all other users\n",
    "    similar_users=user_similarity_df[user_id].sort_values(ascending=False)\n",
    "    #get the most similar users (excluding the user themselves)\n",
    "    similar_users=similar_users.drop(user_id)\n",
    "    #select the top N simular users to limit noise (eg top 50 users)\n",
    "    top_similar_users=similar_users.head(50)\n",
    "    #get ratings of these similar users weighted by their similarity scores\n",
    "    weighted_ratings= np.dot(top_similar_users.values,user_item_matrix_filled.loc[top_similar_users.index])\n",
    "    #np.dot: this computed the dot product between the similarity scores of the top similar users\n",
    "    #and their corresponding ratings in the user_item matrix\n",
    "    #the result is an array of weighted ratings for each game\n",
    "\n",
    "    #normalize by the sum of similarities\n",
    "    sum_of_similarities=top_similar_users.sum()\n",
    "\n",
    "    if sum_of_similarities>0:\n",
    "        weighted_ratings/=sum_of_similarities\n",
    "        #the weighted ratings are normalized by dividing by the sum of similarities to avoid biasing toward users with higher ratings.\n",
    "\n",
    "    user_ratings=user_item_matrix_filled.loc[user_id]\n",
    "    unrated_games=user_ratings[user_ratings==0]\n",
    "\n",
    "    #get the weighted scores for the unrated games \n",
    "    game_recommendations=pd.Series(weighted_ratings, index=user_item_matrix_filled.columns).loc[unrated_games.index]\n",
    "    #this creates a pandas series from the weighted ratings and filters to include only the unrated games\n",
    "    #finally it sorts the recommended games in descending order and returns the top specified number of recommmendations\n",
    "\n",
    "    #return the top 'num_recommendations' game recommendations\n",
    "    return game_recommendations.sort_values(ascending=False).head(num_recommendations)"
   ]
  },
  {
   "cell_type": "code",
   "execution_count": 29,
   "id": "66057e68-cfcb-4e2a-9f6c-1f4378b44628",
   "metadata": {},
   "outputs": [
    {
     "name": "stdout",
     "output_type": "stream",
     "text": [
      "Recommended games for user 3:\n",
      "game\n",
      "'Splosion Man         0.0\n",
      "Resogun               0.0\n",
      "Resogun: Heroes       0.0\n",
      "Retro City Rampage    0.0\n",
      "Retro/Grade           0.0\n",
      "dtype: float64\n"
     ]
    }
   ],
   "source": [
    "recommended_games=get_collaborative_recommendations_for_user(3)\n",
    "print(\"Recommended games for user 3:\")\n",
    "print(recommended_games)"
   ]
  },
  {
   "cell_type": "code",
   "execution_count": null,
   "id": "a9eb4353-8a7e-40a9-80ae-2c65c9f98b5c",
   "metadata": {},
   "outputs": [],
   "source": []
  }
 ],
 "metadata": {
  "kernelspec": {
   "display_name": "Python 3 (ipykernel)",
   "language": "python",
   "name": "python3"
  },
  "language_info": {
   "codemirror_mode": {
    "name": "ipython",
    "version": 3
   },
   "file_extension": ".py",
   "mimetype": "text/x-python",
   "name": "python",
   "nbconvert_exporter": "python",
   "pygments_lexer": "ipython3",
   "version": "3.12.4"
  }
 },
 "nbformat": 4,
 "nbformat_minor": 5
}
