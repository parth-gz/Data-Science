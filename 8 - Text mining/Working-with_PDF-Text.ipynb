{
 "cells": [
  {
   "cell_type": "code",
   "execution_count": 1,
   "id": "42d7bf06-c533-4ec4-bd03-672c442e0987",
   "metadata": {},
   "outputs": [],
   "source": [
    "import PyPDF2"
   ]
  },
  {
   "cell_type": "code",
   "execution_count": 18,
   "id": "f2170338-09fe-470f-a306-0154e27f14df",
   "metadata": {},
   "outputs": [],
   "source": [
    "#Notice we rad it as a binary with 'rb'\n",
    "f=open('US_Declaration.pdf','rb')"
   ]
  },
  {
   "cell_type": "code",
   "execution_count": 20,
   "id": "d3c43f87-82ac-456c-ac4f-c17c3cee05ef",
   "metadata": {},
   "outputs": [],
   "source": [
    "pdf_reader=PyPDF2.PdfReader(f)"
   ]
  },
  {
   "cell_type": "code",
   "execution_count": 22,
   "id": "816618a3-e2a3-413f-a3b8-3cb45940e556",
   "metadata": {},
   "outputs": [],
   "source": [
    "page_one=pdf_reader.pages[0]"
   ]
  },
  {
   "cell_type": "markdown",
   "id": "a0c4f69f-2a63-4ad3-800d-d60b65c3209f",
   "metadata": {},
   "source": [
    "We can then extract text"
   ]
  },
  {
   "cell_type": "code",
   "execution_count": 25,
   "id": "7a7e39be-c35d-4c9c-a4c8-fb780288f4ea",
   "metadata": {},
   "outputs": [],
   "source": [
    "page_one_text=page_one.extract_text()"
   ]
  },
  {
   "cell_type": "code",
   "execution_count": 27,
   "id": "5e4144bc-4fa3-4650-9721-db204c77f4b8",
   "metadata": {},
   "outputs": [
    {
     "data": {
      "text/plain": [
       "\"Declaration of Independence\\nIN CONGRESS, July 4, 1776.  \\nThe unanimous Declaration of the thirteen united States of America,  \\nWhen in the Course of human events, it becomes necessary for one people to dissolve thepolitical bands which have connected them with another, and to assume among the powers of theearth, the separate and equal station to which the Laws of Nature and of Nature's God entitlethem, a decent respect to the opinions of mankind requires that they should declare the causeswhich impel them to the separation. We hold these truths to be self-evident, that all men are created equal, that they are endowed bytheir Creator with certain unalienable Rights, that among these are Life, Liberty and the pursuit\\nof Happiness.— \\x14That to secure these rights, Governments are instituted among Men, derivingtheir just powers from the consent of the governed,—  \\x14That whenever any Form of Government\\nbecomes destructive of these ends, it is the Right of the People to alter or to abolish it, and to\\ninstitute new Government, laying its foundation on such principles and organizing its powers in\\nsuch form, as to them shall seem most likely to effect their Safety and Happiness. Prudence,indeed, will dictate that Governments long established should not be changed for light andtransient causes; and accordingly all experience hath shewn, that mankind are more disposed to\\nsuffer, while evils are sufferable, than to right themselves by abolishing the forms to which theyare accustomed. But when a long train of abuses and usurpations, pursuing invariably the same\\nObject evinces a design to reduce them under absolute Despotism, it is their right, it is their duty,\\nto throw off such Government, and to provide new Guards for their future securit y.— \\x14Such has\\nbeen the patient sufferance of these Colonies; and such is now the necessity which constrainsthem to alter their former Systems of Government. The history of the present King of GreatBritain is a history of repeated injuries and usurpations, all having in direct object the\\nestablishment of an absolute Tyranny over these States. To prove this, let Facts be submitted to a\\ncandid world. \\nHe has refused his Assent to Laws, the most wholesome and necessary for the\\npublic good.He has forbidden his Governors to pass Laws of immediate and pressingimportance, unless suspended in their operation till his Assent should be obtained;and when so suspended, he has utterly neglected to attend to them.He has refused to pass other Laws for the accommodation of large districts of\\npeople, unless those people would relinquish the right of Representation in theLegislature, a right inestimable to them and formidable to tyrants only. He has called together legislative bodies at places unusual, uncomfortable, and distantfrom the depository of their public Records, for the sole purpose of fatiguing them into\\ncompliance with his measures.\""
      ]
     },
     "execution_count": 27,
     "metadata": {},
     "output_type": "execute_result"
    }
   ],
   "source": [
    "page_one_text"
   ]
  },
  {
   "cell_type": "code",
   "execution_count": 39,
   "id": "839161d2-10d6-41be-b92a-00c93e2fd0a3",
   "metadata": {},
   "outputs": [],
   "source": [
    "k=open('kopargaon-part-1.pdf','rb')"
   ]
  },
  {
   "cell_type": "code",
   "execution_count": 41,
   "id": "5626d0ac-775d-4d9f-9619-04ad95662386",
   "metadata": {},
   "outputs": [],
   "source": [
    "pdf_reader=PyPDF2.PdfReader(k)"
   ]
  },
  {
   "cell_type": "code",
   "execution_count": 43,
   "id": "d9b19be9-f2fb-45a9-b1dc-f7d1f519390d",
   "metadata": {},
   "outputs": [],
   "source": [
    "page_one=pdf_reader.pages[0]"
   ]
  },
  {
   "cell_type": "code",
   "execution_count": 45,
   "id": "45e49e22-a012-437e-b572-78613a3985ad",
   "metadata": {},
   "outputs": [],
   "source": [
    "page_one_text=page_one.extract_text()"
   ]
  },
  {
   "cell_type": "code",
   "execution_count": 47,
   "id": "1b04abf5-c279-4b34-8f23-de4fb6d17a09",
   "metadata": {},
   "outputs": [
    {
     "data": {
      "text/plain": [
       "'\\\\\\x10Đ\\x10\\n\\x98\\x8f\\x91ȡ\\x9aȡ\\x85ȯ\\x03\\x93ȡ\\x9d\\n\\x93ȡ\\x8fȯ\\x9dȡ_\\x80ȡ\\x85ȯ\\n\\x94×\\x8fȡ\\n\\x9eȡ\\x9cȡ\\x03\\x11\\x03\\x80Ȩ\\x9bȯ\\x87\\n\\x9d\\x99\\nͧ\\x9bȲ\\x82\\nj\\x9c\\x81\\x94ğ\\x03ĐȲ\\x10\\n\\x98\\x8f\\x91ȡ\\x9aȡ\\x85\\nʜȯ\\x03\\n\\x86ȡ\\x99ȡͬ\\x85ğ\\nC\\nD\\nE\\nF\\nG\\nH\\nI\\nJ\\nK\\n1\\n\\x9dȲ\\x91\\x93ȡ\\x03\\x87\\x82\\x88ȡ\\x94\\n\\x80Ǚç\\x8e\\x9aȡ\\x9d\\x03\\n\\x87\\x82\\x88ȡ\\x94\\n\\x83\\x10Đ\\x10\\x03\\n0\\n\\x03\\x92ȡ\\x98Ȫ\\x9aȣ\\x03\\n\\x98¡ȡ\\x9aȡçĚ\\n\\x98Ǖ\\x10\\x94Ȫ\\x10\\x03\\x92ȡ\\x98Ȫ\\x9aȣ\\n\\x8fȡ\\x10\\x03\\x80Ȫ\\x94\\x9a\\x82ȡ\\x9d\\nǔ\\x87\\x10\\x03\\\\¡\\x98\\x91\\x93\\x82\\x9a\\n\\x92ȡ\\x98Ȫ\\x9aȣ\\x03\\n423601\\nSHRI SHARDA \\nENGLISH \\nMEDIUM \\nSCHOOL \\nKOPARGAON \\n52\\nèğȢ\\n (Deleted)\\nY\\n2\\nĤ\\x97ȡ\\x80\\x9a\\x03]\\x97ȡ\\x9cȯ\\nĤ\\x97ȡ\\x80\\x9a\\x03]\\x97ȡ\\x9cȯ\\n\\x83\\x10Đ\\x10\\x03\\n00\\n\\x03\\x98\\x92Ȣ\\x03\\x98\\x92Ȣ\\n\\x98Ǖ\\x10\\x94Ȫ\\x10\\x03\\x80Ȫ\\x94\\x9a\\x82ȡ\\x9d\\n\\x8fȡ\\x10\\x03\\x80Ȫ\\x94\\x9a\\x82ȡ\\x9d\\nǔ\\x87\\x10\\x03\\\\¡\\x98\\x91\\x93\\x82\\x9a\\n\\x80Ȫ\\x94\\x9a\\x82ȡ\\x9d\\x03\\nĒȡ\\x98Ȣ\\x8e\\x0b\\x03\\n423601\\nRADAHBAI KALE \\nVIDYA \\nKOLPEWADI\\n54\\n\\x94Ǖ\\nY\\n3\\nĤ\\x80ȡ\\x9e\\x03]\\x97ȡ\\x9cȯ\\n\\x87\\x82Û\\x93ȡ\\x90\\x03\\n]\\x97ȡ\\x9bȯ\\n\\x83\\x10Đ\\x10\\x03\\n0\\n\\x03\\x98\\x8dȣ\\x03\\x96Ǖ\\x03\\x98\\x8dȣ\\x03\\x96Ǖ\\n\\x98Ǖ\\x10\\x94Ȫ\\x10\\x03\\x80Ȫ\\x94\\x9a\\x82ȡ\\x9d\\n\\x8fȡ\\x10\\x03\\x80Ȫ\\x94\\x9a\\x82ȡ\\x9d\\nǔ\\x87\\x10\\x03\\\\¡\\x98\\x91\\x93\\x82\\x9a\\n\\x80Ȫ\\x94\\x9a\\x82ȡȲ\\x9d\\x03\\nf\\x98\\x03È\\x9b\\x0b\\x03\\n423601\\nNEW ENGLISH \\nSCHOOL, \\nKANKURI \\n53\\n\\x94Ǖ\\nY\\n4\\n\\x96ȡ\\x96ȡ\\xa0ȡ¡ȯ\\x96\\x03\\n]\\x97ȡ\\x9cȯ\\n\\\\Ö\\x8eȡ\\xa0ȡ¡ȯ\\x96\\x03\\n]\\x97ȡ\\x9cȯ\\n\\x83\\x10Đ\\x10\\x03\\n00\\n\\x03\\x98\\x92Ȣ\\x03\\x98\\x92Ȣ\\n\\x98Ǖ\\x10\\x94Ȫ\\x10\\x03\\x80Ȫ\\x94\\x9a\\x82ȡ\\x9d\\n\\x8fȡ\\x10\\x03\\x80Ȫ\\x94\\x9a\\x82ȡ\\x9d\\nǔ\\x87\\x10\\x03\\\\¡\\x98\\x91\\x93\\x82\\x9a\\n\\x80Ȫ\\x94\\x9a\\x82ȡ\\x9d\\x03\\nĒȡ\\x98Ȣ\\x8e\\x0b\\x03\\n423601\\nJAGDAMBA \\nSCHOOL \\nBABULGAON\\n39\\n\\x94Ǖ\\n00\\nY\\n5\\n\\xa0ͪ\\x9d\\x8fȡ\\x03]\\x97ȡ\\x9cȯ\\n\\x9aȡ\\x87\\x03ͪ\\x9d\\x9e\\x03\\n]\\x97ȡ\\x9cȯ\\n\\x83\\x10Đ\\x10\\x03\\n00\\n\\x03\\x98\\x92Ȣ\\x03\\n\\x80Ȫ\\x94\\x9a\\x82ȡ\\x9d\\n\\x98Ǖ\\x10\\x94Ȫ\\x10\\x03\\x80Ȫ\\x94\\x9a\\x82ȡ\\x9d\\n\\x8fȡ\\x10\\x03\\x80Ȫ\\x94\\x9a\\x82ȡ\\x9d\\nǔ\\x87\\x10\\x03\\\\¡\\x98\\x91\\x93\\x82\\x9a\\n\\x80Ȫ\\x94\\x9a\\x82ȡ\\x9d\\x03\\nĒȡ\\x98Ȣ\\x8e\\x0b\\x03\\n423601\\nSANJIVANI \\nENGLISH \\nSCHOOL\\n37\\nèğȢ\\nY\\nPage No.: \\n1 of 405\\n\\x98¡ȡ\\x9aȡçĚ\\x03\\x9aȡÏ\\x99\\x03ͪ\\x9d\\x92ȡ\\x93\\x03\\x94ǐ\\x9a\\x9f\\x91\\x03\\x98\\x8f\\x91ȡ\\x9a\\x03\\x99ȡ\\x91ȣ\\x03\\x0f\\x03\\nDBDF\\n\\x93ȡͧ\\x9e\\x80\\x03ͪ\\x9d\\x97ȡ\\x82\\x03ͧ\\x9e¢\\x80\\x03\\x98\\x8f\\x91ȡ\\x9a\\x03\\xa0Ȳ\\x83\\nBI\\x0fBH\\x0fDBDF\\x03\\n\\x94\\x99ɍ\\x8f\\x03\\x8f\\x99ȡ\\x9a\\x03\\x80\\x9aÖ\\x99ȡ\\x8f\\x03]\\x9bȯ\\x9bȣ\\x03\\x98\\x8f\\x91ȡ\\x9a\\x03\\x99ȡ\\x91ȣ\\n\\\\ȲǓ\\x8f\\x98\\x03\\x98\\x8f\\x91ȡ\\x9a\\x03\\x99ȡ\\x91ȣ\\nĤȡǾ\\x94\\x03\\x98\\x8f\\x91ȡ\\x9a\\x03\\x99ȡ\\x91ȣ\\x03\\r\\x03\\x94Ǖ\\x9a\\x9d\\x8eȢ\\x03\\nC\\x0b\\x03\\r\\x03\\n\\x94Ǖ\\x9a\\x9d\\x8eȢ\\x03\\nD\\nǔ\\x87ãé\\x99ȡ\\x85ȯ\\x03\\x93ȡ\\x9d\\x1c\\x03\\x03\\\\¡\\x98\\x91\\x93\\x82\\x9a\\n\\x97ȡ\\x82\\x03Đ\\x98ȡȲ\\x80\\x1c\\x03\\x03\\x16\\x1b\\n\\\\¡[\\x8fȡ\\x03Ǒ\\x91\\x93ȡȲ\\x80\\x03\\x1c\\x03\\nBC\\x0fCC\\x0fDBDE\\n\\\\ȲǓ\\x8f\\x98\\x03\\x98\\x8f\\x91ȡ\\x9a\\x03\\x99ȡ\\x91ȣ\\x03Ĥͧ\\xa0ƨȢ\\x85ȡ\\nǑ\\x91\\x93ȡȲ\\x80\\x03\\x1c\\x03\\nEB\\x0fCD\\x0fDBDE\\n'"
      ]
     },
     "execution_count": 47,
     "metadata": {},
     "output_type": "execute_result"
    }
   ],
   "source": [
    "page_one_text"
   ]
  },
  {
   "cell_type": "code",
   "execution_count": null,
   "id": "7b9c105f-7502-429e-91d7-623eb6b436dc",
   "metadata": {},
   "outputs": [],
   "source": []
  }
 ],
 "metadata": {
  "kernelspec": {
   "display_name": "Python 3 (ipykernel)",
   "language": "python",
   "name": "python3"
  },
  "language_info": {
   "codemirror_mode": {
    "name": "ipython",
    "version": 3
   },
   "file_extension": ".py",
   "mimetype": "text/x-python",
   "name": "python",
   "nbconvert_exporter": "python",
   "pygments_lexer": "ipython3",
   "version": "3.12.3"
  }
 },
 "nbformat": 4,
 "nbformat_minor": 5
}
