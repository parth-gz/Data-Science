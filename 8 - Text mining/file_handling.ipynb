{
 "cells": [
  {
   "cell_type": "code",
   "execution_count": 1,
   "id": "5e901e84-82b8-4019-a20f-9d4672fc729e",
   "metadata": {},
   "outputs": [],
   "source": [
    "import spacy"
   ]
  },
  {
   "cell_type": "code",
   "execution_count": 1,
   "id": "9ba0f14a-3156-4a03-b20b-f9f2f8dcb860",
   "metadata": {},
   "outputs": [
    {
     "name": "stdout",
     "output_type": "stream",
     "text": [
      "His name is Fred.\n",
      "His name is Fred.\n"
     ]
    }
   ],
   "source": [
    "name='Fred'\n",
    "\n",
    "#using the old foramt method:\n",
    "print('His name is {var}.'.format(var=name))\n",
    "\n",
    "#using f-string\n",
    "print(f'His name is {name}.')"
   ]
  },
  {
   "cell_type": "markdown",
   "id": "28040e7e-8c7d-4d5d-986e-e9cf5c744c46",
   "metadata": {},
   "source": [
    "Pass !r to get string representation\n"
   ]
  },
  {
   "cell_type": "code",
   "execution_count": 4,
   "id": "3b2f2f0d-ac17-46d1-873e-725dc921cc6f",
   "metadata": {},
   "outputs": [
    {
     "name": "stdout",
     "output_type": "stream",
     "text": [
      "His name is 'Fred'\n"
     ]
    }
   ],
   "source": [
    "print(f'His name is {name!r}')"
   ]
  },
  {
   "cell_type": "code",
   "execution_count": 6,
   "id": "9edbd512-ebf7-46f4-b84d-3fef3d23ecb2",
   "metadata": {},
   "outputs": [
    {
     "name": "stdout",
     "output_type": "stream",
     "text": [
      "Address: 123 Main Street\n"
     ]
    }
   ],
   "source": [
    "d={'a':123,'b':456}\n",
    "print(f'Address: {d['a']} Main Street')"
   ]
  },
  {
   "cell_type": "code",
   "execution_count": 8,
   "id": "02d86f36-856c-4da9-8ecd-329c236f5227",
   "metadata": {},
   "outputs": [
    {
     "name": "stdout",
     "output_type": "stream",
     "text": [
      "Author     Topic    Pages  \n",
      "Twain      Rafting      601\n",
      "Feynman    Physics       95\n",
      "Hamilton   Mythology     144\n"
     ]
    }
   ],
   "source": [
    "library=[('Author','Topic','Pages'),\n",
    "         ('Twain','Rafting',601),\n",
    "         ('Feynman','Physics',95),\n",
    "         ('Hamilton','Mythology',144)]\n",
    "\n",
    "for books in library:\n",
    "    print(f'{books[0]:{10}} {books[1]:{8}} {books[2]:{7}}')"
   ]
  },
  {
   "cell_type": "code",
   "execution_count": 10,
   "id": "5ce41a0e-d616-41b5-a2fc-4dfecdab8260",
   "metadata": {},
   "outputs": [
    {
     "name": "stdout",
     "output_type": "stream",
     "text": [
      "Author     Topic    ..Pages\n",
      "Twain      Rafting  ....601\n",
      "Feynman    Physics  .....95\n",
      "Hamilton   Mythology ....144\n"
     ]
    }
   ],
   "source": [
    "library=[('Author','Topic','Pages'),\n",
    "         ('Twain','Rafting',601),\n",
    "         ('Feynman','Physics',95),\n",
    "         ('Hamilton','Mythology',144)]\n",
    "\n",
    "for books in library:\n",
    "    print(f'{books[0]:{10}} {books[1]:{8}} {books[2]:.>{7}}')"
   ]
  },
  {
   "cell_type": "code",
   "execution_count": 9,
   "id": "5b3e1595-7381-4b34-a8ee-5f1f467abb90",
   "metadata": {},
   "outputs": [],
   "source": [
    "#.< left align\n",
    "#.^ center \n",
    "#.> right align"
   ]
  },
  {
   "cell_type": "markdown",
   "id": "94750a81-5f8c-4241-8e2f-c402985413a7",
   "metadata": {},
   "source": [
    "Data Formating \n"
   ]
  },
  {
   "cell_type": "code",
   "execution_count": 12,
   "id": "d191a5d6-37a3-425c-9e29-98fc1cbc1ef3",
   "metadata": {},
   "outputs": [
    {
     "name": "stdout",
     "output_type": "stream",
     "text": [
      "August 22, 2024\n"
     ]
    }
   ],
   "source": [
    "\n",
    "from datetime import datetime\n",
    "\n",
    "today=datetime(year=2024,month=8,day=22)\n",
    "\n",
    "print(f'{today:%B %d, %Y}')\n"
   ]
  },
  {
   "cell_type": "code",
   "execution_count": 14,
   "id": "7aca10c5-66ee-4d20-a674-c8db82556b64",
   "metadata": {},
   "outputs": [
    {
     "data": {
      "text/plain": [
       "'C:\\\\Users\\\\ADMIN\\\\8-Text Mining\\\\Text Mining'"
      ]
     },
     "execution_count": 14,
     "metadata": {},
     "output_type": "execute_result"
    }
   ],
   "source": [
    "pwd"
   ]
  },
  {
   "cell_type": "code",
   "execution_count": 16,
   "id": "e3856d8d-4c1e-444c-a58e-03ad12150acb",
   "metadata": {},
   "outputs": [
    {
     "name": "stdout",
     "output_type": "stream",
     "text": [
      "Overwriting test.txt\n"
     ]
    }
   ],
   "source": [
    "%%writefile test.txt                      \n",
    "Hello this is a quick test file .\n",
    "This is second line of file.\n",
    "#creating the text file"
   ]
  },
  {
   "cell_type": "code",
   "execution_count": 20,
   "id": "a9ac6d38-d7d3-41c6-826e-fbc753459e51",
   "metadata": {},
   "outputs": [],
   "source": [
    "#open the test.txt file which we created earlier\n",
    "my_file=open('test.txt')"
   ]
  },
  {
   "cell_type": "code",
   "execution_count": 29,
   "id": "b71b126c-4d86-4bc4-91eb-cf6cc9de261e",
   "metadata": {},
   "outputs": [
    {
     "data": {
      "text/plain": [
       "''"
      ]
     },
     "execution_count": 29,
     "metadata": {},
     "output_type": "execute_result"
    }
   ],
   "source": [
    "#now we can read the file\n",
    "my_file.read()"
   ]
  },
  {
   "cell_type": "code",
   "execution_count": 31,
   "id": "e39f03bf-e570-4572-8001-46fe6f279fba",
   "metadata": {},
   "outputs": [
    {
     "data": {
      "text/plain": [
       "''"
      ]
     },
     "execution_count": 31,
     "metadata": {},
     "output_type": "execute_result"
    }
   ],
   "source": [
    "#But what happen if try to read it again\n",
    "my_file.read()"
   ]
  },
  {
   "cell_type": "markdown",
   "id": "0cb49db1-a3ec-47c7-a5e0-51ad75167767",
   "metadata": {},
   "source": [
    "This happen beacause you can imagine the reading cursor is at the end of the file\n",
    "after having read it .So there is nothing left to read . We can reset the \"cursor\" like this"
   ]
  },
  {
   "cell_type": "code",
   "execution_count": 34,
   "id": "01807190-4de7-4457-a190-f4cbc0056042",
   "metadata": {},
   "outputs": [
    {
     "data": {
      "text/plain": [
       "0"
      ]
     },
     "execution_count": 34,
     "metadata": {},
     "output_type": "execute_result"
    }
   ],
   "source": [
    "#seek to the start of file \n",
    "my_file.seek(0)"
   ]
  },
  {
   "cell_type": "code",
   "execution_count": 36,
   "id": "7bee825e-db04-4670-861d-9137b5d5e52b",
   "metadata": {},
   "outputs": [
    {
     "data": {
      "text/plain": [
       "'Hello this is a quick test file .\\nThis is second line of file.\\n#creating the text file\\n'"
      ]
     },
     "execution_count": 36,
     "metadata": {},
     "output_type": "execute_result"
    }
   ],
   "source": [
    "#read the file again\n",
    "my_file.read()"
   ]
  },
  {
   "cell_type": "code",
   "execution_count": 38,
   "id": "6f7d7471-0495-46ac-92f5-692fdf095e6d",
   "metadata": {},
   "outputs": [
    {
     "data": {
      "text/plain": [
       "['Hello this is a quick test file .\\n',\n",
       " 'This is second line of file.\\n',\n",
       " '#creating the text file\\n']"
      ]
     },
     "execution_count": 38,
     "metadata": {},
     "output_type": "execute_result"
    }
   ],
   "source": [
    "#Readlines returns the list of lines in the list\n",
    "my_file.seek(0)\n",
    "my_file.readlines()"
   ]
  },
  {
   "cell_type": "code",
   "execution_count": 40,
   "id": "3e92bc16-9bdc-4843-93be-024cda2bda76",
   "metadata": {},
   "outputs": [],
   "source": [
    "#ro close the file\n",
    "my_file.close()"
   ]
  },
  {
   "cell_type": "markdown",
   "id": "7bfbfc72-073d-4af1-949c-b9c6d3e396a0",
   "metadata": {},
   "source": [
    "Writing to a file\n",
    "\n",
    "By default the open() function will only allow us to read the file . So we need to pass the argument \n",
    "'w' to write over the file "
   ]
  },
  {
   "cell_type": "code",
   "execution_count": 43,
   "id": "55d2fa1e-65cc-423f-ac32-dc287f8a1be4",
   "metadata": {},
   "outputs": [],
   "source": [
    "#add a seconnd argument to the function .'w' which stands for write \n",
    "#passing 'w+' Let us read and write the file\n",
    "\n",
    "my_file=open('test.txt','w+')\n"
   ]
  },
  {
   "cell_type": "code",
   "execution_count": 45,
   "id": "94f3753c-6ddf-4126-8e58-f3e26c0560db",
   "metadata": {},
   "outputs": [
    {
     "data": {
      "text/plain": [
       "26"
      ]
     },
     "execution_count": 45,
     "metadata": {},
     "output_type": "execute_result"
    }
   ],
   "source": [
    "#write to the file\n",
    "my_file.write(\"This is the new first line\")"
   ]
  },
  {
   "cell_type": "code",
   "execution_count": 47,
   "id": "bf90f8f5-25ec-4d4e-8938-70f41dc5c3c7",
   "metadata": {},
   "outputs": [
    {
     "data": {
      "text/plain": [
       "'This is the new first line'"
      ]
     },
     "execution_count": 47,
     "metadata": {},
     "output_type": "execute_result"
    }
   ],
   "source": [
    "#Now read the file\n",
    "my_file.seek(0)\n",
    "my_file.read()"
   ]
  },
  {
   "cell_type": "markdown",
   "id": "8a3902fa-8b6b-4f7a-9f71-d43b1d0c3125",
   "metadata": {},
   "source": [
    "Appending to a file\n",
    "\n",
    "\n",
    "Passing the argument 'a' opens the file and puts the pointer at the end, so anything written is append.\n",
    "like 'w+', 'a+' lets us read and write to a file. If the file does not  exist, one will be created.\n",
    "\n"
   ]
  },
  {
   "cell_type": "code",
   "execution_count": 50,
   "id": "30872bb9-1da2-48a1-a180-b472a9403e53",
   "metadata": {},
   "outputs": [
    {
     "data": {
      "text/plain": [
       "22"
      ]
     },
     "execution_count": 50,
     "metadata": {},
     "output_type": "execute_result"
    }
   ],
   "source": [
    "my_file=open('test.txt','a+')\n",
    "my_file.write('\\nThis line is being appended to test .txt')\n",
    "my_file.write('\\nAnd another line here')"
   ]
  },
  {
   "cell_type": "code",
   "execution_count": 52,
   "id": "146de3a4-e3f5-430f-b2f3-ba0dd6141ab8",
   "metadata": {},
   "outputs": [
    {
     "name": "stdout",
     "output_type": "stream",
     "text": [
      "This is the new first line\n",
      "This line is being appended to test .txt\n",
      "And another line here\n"
     ]
    }
   ],
   "source": [
    "my_file.seek(0)\n",
    "print(my_file.read())"
   ]
  },
  {
   "cell_type": "code",
   "execution_count": 54,
   "id": "aaac1ed9-46b5-440a-aebb-a8cfd1b0f8eb",
   "metadata": {},
   "outputs": [],
   "source": [
    "my_file.close()"
   ]
  },
  {
   "cell_type": "code",
   "execution_count": null,
   "id": "3ce201e6-f2ea-4f1f-8322-fc9b670f3403",
   "metadata": {},
   "outputs": [],
   "source": []
  },
  {
   "cell_type": "code",
   "execution_count": null,
   "id": "91e9ed6a-0879-4489-b524-715f59f0e51d",
   "metadata": {},
   "outputs": [],
   "source": []
  }
 ],
 "metadata": {
  "kernelspec": {
   "display_name": "Python 3 (ipykernel)",
   "language": "python",
   "name": "python3"
  },
  "language_info": {
   "codemirror_mode": {
    "name": "ipython",
    "version": 3
   },
   "file_extension": ".py",
   "mimetype": "text/x-python",
   "name": "python",
   "nbconvert_exporter": "python",
   "pygments_lexer": "ipython3",
   "version": "3.12.3"
  }
 },
 "nbformat": 4,
 "nbformat_minor": 5
}
