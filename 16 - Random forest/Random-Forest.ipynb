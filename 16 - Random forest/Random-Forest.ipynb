{
 "cells": [
  {
   "cell_type": "code",
   "execution_count": 1,
   "id": "c3df3ca0-9d0e-4a62-9c24-4a66ec21f6a4",
   "metadata": {},
   "outputs": [
    {
     "name": "stdout",
     "output_type": "stream",
     "text": [
      "<class 'pandas.core.frame.DataFrame'>\n",
      "RangeIndex: 506 entries, 0 to 505\n",
      "Data columns (total 19 columns):\n",
      " #   Column               Non-Null Count  Dtype  \n",
      "---  ------               --------------  -----  \n",
      " 0   Marketing expense    506 non-null    float64\n",
      " 1   Production expense   506 non-null    float64\n",
      " 2   Multiplex coverage   506 non-null    float64\n",
      " 3   Budget               506 non-null    float64\n",
      " 4   Movie_length         506 non-null    float64\n",
      " 5   Lead_ Actor_Rating   506 non-null    float64\n",
      " 6   Lead_Actress_rating  506 non-null    float64\n",
      " 7   Director_rating      506 non-null    float64\n",
      " 8   Producer_rating      506 non-null    float64\n",
      " 9   Critic_rating        506 non-null    float64\n",
      " 10  Trailer_views        506 non-null    int64  \n",
      " 11  3D_available         506 non-null    object \n",
      " 12  Time_taken           506 non-null    float64\n",
      " 13  Twitter_hastags      506 non-null    float64\n",
      " 14  Genre                506 non-null    object \n",
      " 15  Avg_age_actors       506 non-null    int64  \n",
      " 16  Num_multiplex        506 non-null    int64  \n",
      " 17  Collection           506 non-null    int64  \n",
      " 18  Start_Tech_Oscar     506 non-null    int64  \n",
      "dtypes: float64(12), int64(5), object(2)\n",
      "memory usage: 75.2+ KB\n"
     ]
    }
   ],
   "source": [
    "import pandas as pd\n",
    "df=pd.read_csv(\"movies_classification.csv\")\n",
    "df.info()"
   ]
  },
  {
   "cell_type": "code",
   "execution_count": 3,
   "id": "13a50513-9fbc-46f4-9eeb-87fa276d9c88",
   "metadata": {},
   "outputs": [],
   "source": [
    "#there are 2 object columns, hece convert them to dummies\n",
    "df=pd.get_dummies(df,columns=['3D_available','Genre'],drop_first=True)"
   ]
  },
  {
   "cell_type": "code",
   "execution_count": 7,
   "id": "87b63b7e-2e96-4545-acbf-d8413378f7be",
   "metadata": {},
   "outputs": [],
   "source": [
    "#let us assign input and output variables\n",
    "predictors=df.loc[:,df.columns!=\"Start_Tech_Oscar\"]\n",
    "#except Start_Tech_Oscar all other columns are assigned to predictors, predictors has 20 columns\n",
    "target=df[\"Start_Tech_Oscar\"]"
   ]
  },
  {
   "cell_type": "code",
   "execution_count": 19,
   "id": "7c28dc32-d2d2-46f3-b8da-8a2f81b11be9",
   "metadata": {},
   "outputs": [],
   "source": [
    "#Let us partition the dataset\n",
    "from sklearn.model_selection import train_test_split\n",
    "X_train,X_test,y_train,y_test=train_test_split(predictors, target,test_size=0.3)"
   ]
  },
  {
   "cell_type": "code",
   "execution_count": 21,
   "id": "969fe525-55ef-4ed9-bf3c-cb806f964940",
   "metadata": {},
   "outputs": [],
   "source": [
    "#model selection\n",
    "from sklearn.ensemble import RandomForestClassifier\n",
    "rand_for=RandomForestClassifier(n_estimators=500,n_jobs=1,random_state=42)\n",
    "#n_estimators is the nmber of trees in the forest, always range from 500 to 1000\n",
    "#n_jobs=1 means number of tasks running prallel, if it is -1 then it means multiple jobs run parallel\n",
    "#random_state controls the randomness of bootstraping\n",
    "#Bootstraping is getting samples replaced"
   ]
  },
  {
   "cell_type": "code",
   "execution_count": 23,
   "id": "04893ba0-be8a-437b-a409-81b824250397",
   "metadata": {},
   "outputs": [],
   "source": [
    "rand_for.fit(X_train,y_train)\n",
    "pred_X_train=rand_for.predict(X_train)\n",
    "pred_X_test=rand_for.predict(X_test)"
   ]
  },
  {
   "cell_type": "code",
   "execution_count": 35,
   "id": "4f0ccb9b-66d3-4793-869f-4604af1f1fd4",
   "metadata": {},
   "outputs": [
    {
     "data": {
      "text/plain": [
       "0.618421052631579"
      ]
     },
     "execution_count": 35,
     "metadata": {},
     "output_type": "execute_result"
    }
   ],
   "source": [
    "#Let us check the performane of the model\n",
    "from sklearn.metrics import accuracy_score, confusion_matrix\n",
    "#for test data\n",
    "accuracy_score(pred_X_test,y_test)"
   ]
  },
  {
   "cell_type": "code",
   "execution_count": 29,
   "id": "74238edf-ddaf-4e53-ae07-c2a599edb371",
   "metadata": {},
   "outputs": [
    {
     "data": {
      "text/plain": [
       "array([[38, 22],\n",
       "       [36, 56]])"
      ]
     },
     "execution_count": 29,
     "metadata": {},
     "output_type": "execute_result"
    }
   ],
   "source": [
    "confusion_matrix(pred_X_test,y_test)"
   ]
  },
  {
   "cell_type": "code",
   "execution_count": 31,
   "id": "37b6612a-23fa-48b0-a7e1-4e53a4237073",
   "metadata": {},
   "outputs": [
    {
     "data": {
      "text/plain": [
       "1.0"
      ]
     },
     "execution_count": 31,
     "metadata": {},
     "output_type": "execute_result"
    }
   ],
   "source": [
    "#for taining dataset\n",
    "accuracy_score(pred_X_train,y_train)"
   ]
  },
  {
   "cell_type": "code",
   "execution_count": 33,
   "id": "d2399b8a-883c-412a-9325-d08f76fe19fa",
   "metadata": {},
   "outputs": [
    {
     "data": {
      "text/plain": [
       "array([[156,   0],\n",
       "       [  0, 198]])"
      ]
     },
     "execution_count": 33,
     "metadata": {},
     "output_type": "execute_result"
    }
   ],
   "source": [
    "confusion_matrix(pred_X_train,y_train)"
   ]
  },
  {
   "cell_type": "code",
   "execution_count": null,
   "id": "59a69379-6b76-4f62-aade-ff4d2e97f4a3",
   "metadata": {},
   "outputs": [],
   "source": []
  }
 ],
 "metadata": {
  "kernelspec": {
   "display_name": "Python 3 (ipykernel)",
   "language": "python",
   "name": "python3"
  },
  "language_info": {
   "codemirror_mode": {
    "name": "ipython",
    "version": 3
   },
   "file_extension": ".py",
   "mimetype": "text/x-python",
   "name": "python",
   "nbconvert_exporter": "python",
   "pygments_lexer": "ipython3",
   "version": "3.12.4"
  }
 },
 "nbformat": 4,
 "nbformat_minor": 5
}
